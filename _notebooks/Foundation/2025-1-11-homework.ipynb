{
 "cells": [
  {
   "cell_type": "markdown",
   "metadata": {},
   "source": [
    "# Homework!! #\n",
    "\n",
    "Your task is to fill in the following code to alter the arrays!"
   ]
  },
  {
   "cell_type": "markdown",
   "metadata": {},
   "source": [
    "# Lesson 1 Homework"
   ]
  },
  {
   "cell_type": "code",
   "execution_count": 2,
   "metadata": {
    "vscode": {
     "languageId": "javascript"
    }
   },
   "outputs": [
    {
     "ename": "SyntaxError",
     "evalue": "unterminated string literal (detected at line 5) (504542908.py, line 5)",
     "output_type": "error",
     "traceback": [
      "\u001b[0;36m  Cell \u001b[0;32mIn[2], line 5\u001b[0;36m\u001b[0m\n\u001b[0;31m    // now that that's done... a lemon isn't a dessert unless you're weird... maybe change it to a lemon-themed dessert?\u001b[0m\n\u001b[0m                                                                 ^\u001b[0m\n\u001b[0;31mSyntaxError\u001b[0m\u001b[0;31m:\u001b[0m unterminated string literal (detected at line 5)\n"
     ]
    }
   ],
   "source": [
    "let desserts = [\"lemon\",\"delete1\",\"ice cream\",\"chocolate cake\",\"key lime pie\",\"delete2\"];\n",
    "desserts.pop(); // which command gets rid of the last element in the array?\n",
    "desserts.splice(1, 1); // which command will delete the delete1 element and how do you use it??\n",
    "\n",
    "// now that that's done... a lemon isn't a dessert unless you're weird... maybe change it to a lemon-themed dessert?\n",
    "desserts[0] = \"lemon tart\"; // put your lemon-themed dessert here :D\n",
    "\n",
    "// okay okay, you've proven your skills... now all that's left is to print the list!\n",
    "console.log(desserts);\n"
   ]
  },
  {
   "cell_type": "markdown",
   "metadata": {},
   "source": [
    "# Lesson 2 Homework - Part 1"
   ]
  },
  {
   "cell_type": "code",
   "execution_count": 8,
   "metadata": {
    "vscode": {
     "languageId": "javascript"
    }
   },
   "outputs": [
    {
     "ename": "SyntaxError",
     "evalue": "invalid syntax (3833161898.py, line 1)",
     "output_type": "error",
     "traceback": [
      "\u001b[0;36m  Cell \u001b[0;32mIn[8], line 1\u001b[0;36m\u001b[0m\n\u001b[0;31m    // Step 1: Create a list with a repeating element\u001b[0m\n\u001b[0m    ^\u001b[0m\n\u001b[0;31mSyntaxError\u001b[0m\u001b[0;31m:\u001b[0m invalid syntax\n"
     ]
    }
   ],
   "source": [
    "// Step 1: Create a list with a repeating element\n",
    "let list = [1, 2, 3, 1, 4];\n",
    "\n",
    "// Step 2: Use a for loop to iterate through each element and print the index of them\n",
    "for (let i = 0; i < list.length; i++) {\n",
    "  console.log(`Index ${i}: ${list[i]}`);\n",
    "}\n",
    "\n",
    "// Step 3: Find and print the index of the last occurrence of the repeated value\n",
    "let lastIndex = list.lastIndexOf(1); // Replace '1' with your repeated value\n",
    "console.log(`The last occurrence of the repeated value is at index: ${lastIndex}`);\n"
   ]
  },
  {
   "cell_type": "markdown",
   "metadata": {},
   "source": [
    "# Lesson 2 Homework - Part 2"
   ]
  },
  {
   "cell_type": "code",
   "execution_count": null,
   "metadata": {
    "vscode": {
     "languageId": "javascript"
    }
   },
   "outputs": [
    {
     "ename": "SyntaxError",
     "evalue": "invalid syntax (811720232.py, line 1)",
     "output_type": "error",
     "traceback": [
      "\u001b[0;36m  Cell \u001b[0;32mIn[4], line 1\u001b[0;36m\u001b[0m\n\u001b[0;31m    // Step 1: Create a list\u001b[0m\n\u001b[0m    ^\u001b[0m\n\u001b[0;31mSyntaxError\u001b[0m\u001b[0;31m:\u001b[0m invalid syntax\n"
     ]
    }
   ],
   "source": [
    "// Step 1: Create a list\n",
    "let list = [\"apple\", \"banana\", \"cherry\", \"date\"];\n",
    "\n",
    "// Step 2: Print the length of your list\n",
    "console.log(list.length); // Outputs the number of elements in the list\n",
    "\n",
    "// Step 3: Check if a value is included in the list\n",
    "let isIncluded = list.includes(\"banana\"); // Change \"banana\" to test other values\n",
    "console.log(isIncluded); // Outputs true or false\n"
   ]
  },
  {
   "cell_type": "markdown",
   "metadata": {
    "vscode": {
     "languageId": "javascript"
    }
   },
   "source": [
    "You're done with your homework!!"
   ]
  }
 ],
 "metadata": {
  "kernelspec": {
   "display_name": "venv",
   "language": "python",
   "name": "python3"
  },
  "language_info": {
   "codemirror_mode": {
    "name": "ipython",
    "version": 3
   },
   "file_extension": ".py",
   "mimetype": "text/x-python",
   "name": "python",
   "nbconvert_exporter": "python",
   "pygments_lexer": "ipython3",
   "version": "3.13.1"
  }
 },
 "nbformat": 4,
 "nbformat_minor": 2
}
