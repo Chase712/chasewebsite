{
 "cells": [
  {
   "cell_type": "raw",
   "metadata": {
    "vscode": {
     "languageId": "raw"
    }
   },
   "source": [
    "---\n",
    "layout: post\n",
    "title: RPG Ideation\n",
    "description:  Blog With our RPG ideation\n",
    "permalink: /nbjupyter\n",
    "---"
   ]
  },
  {
   "cell_type": "markdown",
   "metadata": {},
   "source": [
    "# Main Idea\n",
    "Jack and I decided on our level to be a prison escape. We want this level to be interactive and ask questions. When they interact with the other prisoners they will be given clues after answering questions correctly. After answering all the questions they will be able to solve the riddle/puzzle, and be able to successfully escape the prison. \n",
    "\n",
    "### Flow Chart\n",
    "\n",
    "<img width=\"600\" alt=\"Image\" src=\"https://github.com/user-attachments/assets/4a0ab673-271a-4249-a1ae-f53c27258e5b\" />\n",
    "\n",
    "# NPCS\n",
    "There will be a multiple NPCs in our games, some that will be more stuborn than others.\n",
    "\n",
    "## Gaurd\n",
    "<img src=\"https://github.com/user-attachments/assets/d9df8ab1-30f0-42d6-8b95-09ee86cd79d9\" width=\"300\">\n",
    "\n",
    "## Prisoner\n",
    "<img src=\"https://github.com/user-attachments/assets/46515b57-d2d0-47c2-8adf-131456e3e4dd\" width=\"300\">\n",
    "\n",
    "## MC\n",
    "<img src=\"https://github.com/user-attachments/assets/b1faceb2-d59e-470a-be00-f805d015eadb\" width=\"300\">\n"
   ]
  },
  {
   "cell_type": "markdown",
   "metadata": {},
   "source": [
    "# Background\n",
    "We decided upon this background Below. This background will allow us to have the player interact with npcs in the jail cells. \n",
    "\n",
    "![Background](https://github.com/user-attachments/assets/0c88065f-867b-4106-8221-2db7e7e81c94)\n",
    "\n",
    "# Other possible ideas\n",
    "We may want to implement a timer or countdown to add more pressure and make the game more entertaning. \n",
    "\n"
   ]
  },
  {
   "cell_type": "markdown",
   "metadata": {},
   "source": []
  },
  {
   "cell_type": "markdown",
   "metadata": {
    "vscode": {
     "languageId": "raw"
    }
   },
   "source": [
    "\n",
    "# Ideations\n",
    "<img width=\"300\" alt=\"Ideation\" src=\"https://github.com/user-attachments/assets/774848d5-b209-49d1-b60e-8c1bf6103cfa\" />\n",
    "We plan on making a collison border around the npc jail inmates. We need to set the border around the prison cells so the charters do not run off the maps."
   ]
  }
 ],
 "metadata": {
  "language_info": {
   "name": "python"
  }
 },
 "nbformat": 4,
 "nbformat_minor": 2
}
