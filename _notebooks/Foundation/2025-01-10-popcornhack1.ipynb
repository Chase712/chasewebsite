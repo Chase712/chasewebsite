{
 "cells": [
  {
   "cell_type": "markdown",
   "metadata": {},
   "source": [
    "```yaml\n",
    "\n",
    "---\n",
    "layout: page\n",
    "title: Popcorn Hacks One\n",
    "permalink: /phjupyter/\n",
    "---"
   ]
  },
  {
   "cell_type": "markdown",
   "metadata": {},
   "source": [
    "---\n",
    "Popcorn Hacks One\n",
    "---"
   ]
  },
  {
   "cell_type": "markdown",
   "metadata": {},
   "source": [
    " - Delete the last two items of the list below (delete1 and delete2)\n",
    " - Change the non dessert item (fries) to a dessert\n",
    " - Add two more desserts to list"
   ]
  },
  {
   "cell_type": "code",
   "execution_count": 7,
   "metadata": {
    "vscode": {
     "languageId": "javascript"
    }
   },
   "outputs": [
    {
     "ename": "SyntaxError",
     "evalue": "invalid syntax (3537867765.py, line 1)",
     "output_type": "error",
     "traceback": [
      "\u001b[0;36m  Cell \u001b[0;32mIn[7], line 1\u001b[0;36m\u001b[0m\n\u001b[0;31m    let desserts = ['cake', 'ice cream', 'cookies', 'fries', 'delete1', 'delete2'];\u001b[0m\n\u001b[0m        ^\u001b[0m\n\u001b[0;31mSyntaxError\u001b[0m\u001b[0;31m:\u001b[0m invalid syntax\n"
     ]
    }
   ],
   "source": [
    "let desserts = ['cake', 'ice cream', 'cookies', 'fries', 'delete1', 'delete2'];\n",
    "\n",
    "// Remove the last two items\n",
    "desserts.splice(-2);\n",
    "\n",
    "// Change 'fries' to a dessert\n",
    "desserts[desserts.indexOf('fries')] = 'brownies';\n",
    "\n",
    "// Add two more desserts\n",
    "desserts.push('pie', 'donuts');\n",
    "\n",
    "console.log(desserts.join(\", \"));\n"
   ]
  },
  {
   "cell_type": "code",
   "execution_count": null,
   "metadata": {
    "vscode": {
     "languageId": "javascript"
    }
   },
   "outputs": [],
   "source": [
    "Popcorn hacks 2"
   ]
  },
  {
   "cell_type": "code",
   "execution_count": 8,
   "metadata": {
    "vscode": {
     "languageId": "javascript"
    }
   },
   "outputs": [
    {
     "data": {
      "application/javascript": "let my_list_2 = [3, 7, 9, 21]; // create a variable\nconst length = my_list_2.length; // create a const length\nconsole.log(my_list_2); // print out your list\nconsole.log(length); // print out the length of the list\n",
      "text/plain": [
       "<IPython.core.display.Javascript object>"
      ]
     },
     "metadata": {},
     "output_type": "display_data"
    }
   ],
   "source": [
    "%%js\n",
    "let my_list_2 = [3, 7, 9, 21]; // create a variable\n",
    "const length = my_list_2.length; // create a const length\n",
    "console.log(my_list_2); // print out your list\n",
    "console.log(length); // print out the length of the list\n"
   ]
  },
  {
   "cell_type": "code",
   "execution_count": null,
   "metadata": {
    "vscode": {
     "languageId": "javascript"
    }
   },
   "outputs": [],
   "source": [
    "instructions:\n",
    " - Create a length of a list and print it in console.log()\n",
    " - Create a variable called \"list\" or \"my_list_2\"\n",
    " - Create a list of numbers or words in the brackets [] Exp: let your_list = [3, 7, 9, 21];\n",
    " - Create a const length = your_list.length;\n",
    " - After all of that, finally print it out in console.log() Exp: console.log(your_list);"
   ]
  }
 ],
 "metadata": {
  "kernelspec": {
   "display_name": "venv",
   "language": "python",
   "name": "python3"
  },
  "language_info": {
   "codemirror_mode": {
    "name": "ipython",
    "version": 3
   },
   "file_extension": ".py",
   "mimetype": "text/x-python",
   "name": "python",
   "nbconvert_exporter": "python",
   "pygments_lexer": "ipython3",
   "version": "3.13.1"
  }
 },
 "nbformat": 4,
 "nbformat_minor": 2
}
