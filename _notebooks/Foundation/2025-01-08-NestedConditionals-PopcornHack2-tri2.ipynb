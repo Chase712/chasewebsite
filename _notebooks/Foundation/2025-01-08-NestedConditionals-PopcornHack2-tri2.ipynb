{
 "cells": [
  {
   "cell_type": "raw",
   "metadata": {
    "vscode": {
     "languageId": "raw"
    }
   },
   "source": [
    "---\n",
    "layout: post\n",
    "title: Nested Conditionals, Popcorn Hack Two\n",
    "description:  Second popcorn hack for nested conditionals\n",
    "type: issues \n",
    "comments: true\n",
    "---"
   ]
  },
  {
   "cell_type": "markdown",
   "metadata": {},
   "source": [
    "### Popcorn Hack 2\n",
    "\n",
    "This code uses boolean to check if a person has the unlimited amusement food card. If they do, then they are allowed to buy any food that they want for free. Add code for another type of food and take into account whether or not the food is in stock."
   ]
  },
  {
   "cell_type": "code",
   "execution_count": null,
   "metadata": {
    "vscode": {
     "languageId": "html"
    }
   },
   "outputs": [
    {
     "data": {
      "text/html": [
       "<!-- HTML output div -->\n",
       "<div id=\"message\"></div>\n",
       "<script>\n",
       "    function runWhenDOMLoaded() {\n",
       "        let foodCard = true;\n",
       "        let money = 1;\n",
       "        let foodChoice = \"cotton candy\";\n",
       "        //You probably want to add some boolean variables here to check if the food is in stock or not... \n",
       "        //Make sure to add another food! Get creative!\n",
       "\n",
       "        const messageElement = document.getElementById(\"message\");\n",
       "\n",
       "        function displayMessage(message) {\n",
       "            console.log(message); // Log to console\n",
       "            messageElement.textContent = message; // Display on the webpage\n",
       "        }\n",
       "\n",
       "        if (foodCard === true) {\n",
       "            if (foodChoice === \"popcorn\") {//Checks the food choice\n",
       "                    displayMessage(\"Yum! The popcorn is tasty!\");\n",
       "            } else if (foodChoice === \"cotton candy\") {\n",
       "                    displayMessage(\"Yum! The cotton candy is tasty!\");\n",
       "            }//Use the previous code as examples to help make another food! \n",
       "            // Also, make sure to add more nested conditionals inside the if statements above to check if the food is in stock\n",
       "        } else {\n",
       "            if (foodChoice === \"popcorn\") {\n",
       "                if (money >= 8) { // checks if you have enough money to buy\n",
       "                    //Add another if statement to check if the food is in stock!\n",
       "                    displayMessage(\"Yay! You can buy the popcorn!\");\n",
       "                } else {\n",
       "                    displayMessage(\"Oh... you can't buy the popcorn.\");\n",
       "                }\n",
       "            } else if (foodChoice === \"cotton candy\") {\n",
       "                if (money >= 5) {\n",
       "                    //Add another if statement to check if the food is in stock!\n",
       "                    displayMessage(\"Yay! You can buy the cotton candy!\");\n",
       "                } else {\n",
       "                    displayMessage(\"Oh... you can't buy the cotton candy.\");\n",
       "                }//Add the other food and make sure to check if it is in stock!\n",
       "            }\n",
       "        }\n",
       "    }\n",
       "\n",
       "    // Ensure the function runs only after the page loads\n",
       "    if (document.readyState === \"loading\") {\n",
       "        document.addEventListener(\"DOMContentLoaded\", runWhenDOMLoaded);\n",
       "    } else {\n",
       "        runWhenDOMLoaded();\n",
       "    }\n",
       "</script>\n"
      ],
      "text/plain": [
       "<IPython.core.display.HTML object>"
      ]
     },
     "metadata": {},
     "output_type": "display_data"
    }
   ],
   "source": [
    "<div id=\"message\"></div>\n",
    "<script>\n",
    "    function runWhenDOMLoaded() {\n",
    "        let foodCard = true;  // Unlimited food card\n",
    "        let money = 10;  // Money available\n",
    "        let foodChoice = \"churros\";  // Food choice\n",
    "        let popcornInStock = true;  // Stock availability for popcorn\n",
    "        let cottonCandyInStock = true;  // Stock availability for cotton candy\n",
    "        let churrosInStock = false;  // Stock availability for churros\n",
    "\n",
    "        const messageElement = document.getElementById(\"message\");\n",
    "\n",
    "        function displayMessage(message) {\n",
    "            console.log(message);  // Log to console\n",
    "            messageElement.textContent = message;  // Display on the webpage\n",
    "        }\n",
    "\n",
    "        if (foodCard === true) {\n",
    "            if (foodChoice === \"popcorn\" && popcornInStock) {\n",
    "                displayMessage(\"Yum! The popcorn is tasty and it's in stock!\");\n",
    "            } else if (foodChoice === \"cotton candy\" && cottonCandyInStock) {\n",
    "                displayMessage(\"Yum! The cotton candy is tasty and it's in stock!\");\n",
    "            } else if (foodChoice === \"churros\" && churrosInStock) {\n",
    "                displayMessage(\"Yum! The churros are tasty and they're in stock!\");\n",
    "            } else {\n",
    "                displayMessage(\"Sorry, the selected food is not in stock.\");\n",
    "            }\n",
    "        } else {\n",
    "            if (foodChoice === \"popcorn\") {\n",
    "                if (money >= 8 && popcornInStock) {\n",
    "                    displayMessage(\"Yay! You can buy the popcorn!\");\n",
    "                } else if (!popcornInStock) {\n",
    "                    displayMessage(\"Sorry, popcorn is out of stock.\");\n",
    "                } else {\n",
    "                    displayMessage(\"Oh... you can't buy the popcorn.\");\n",
    "                }\n",
    "            } else if (foodChoice === \"cotton candy\") {\n",
    "                if (money >= 5 && cottonCandyInStock) {\n",
    "                    displayMessage(\"Yay! You can buy the cotton candy!\");\n",
    "                } else if (!cottonCandyInStock) {\n",
    "                    displayMessage(\"Sorry, cotton candy is out of stock.\");\n",
    "                } else {\n",
    "                    displayMessage(\"Oh... you can't buy the cotton candy.\");\n",
    "                }\n",
    "            } else if (foodChoice === \"churros\") {\n",
    "                if (money >= 6 && churrosInStock) {\n",
    "                    displayMessage(\"Yay! You can buy the churros!\");\n",
    "                } else if (!churrosInStock) {\n",
    "                    displayMessage(\"Sorry, churros are out of stock.\");\n",
    "                } else {\n",
    "                    displayMessage(\"Oh... you can't buy the churros.\");\n",
    "                }\n",
    "            }\n",
    "        }\n",
    "    }\n",
    "\n",
    "    // Ensure the function runs only after the page loads\n",
    "    if (document.readyState === \"loading\") {\n",
    "        document.addEventListener(\"DOMContentLoaded\", runWhenDOMLoaded);\n",
    "    } else {\n",
    "        runWhenDOMLoaded();\n",
    "    }\n",
    "</script>\n"
   ]
  }
 ],
 "metadata": {
  "kernelspec": {
   "display_name": "Python 3",
   "language": "python",
   "name": "python3"
  },
  "language_info": {
   "codemirror_mode": {
    "name": "ipython",
    "version": 3
   },
   "file_extension": ".py",
   "mimetype": "text/x-python",
   "name": "python",
   "nbconvert_exporter": "python",
   "pygments_lexer": "ipython3",
   "version": "3.12.3"
  }
 },
 "nbformat": 4,
 "nbformat_minor": 2
}
